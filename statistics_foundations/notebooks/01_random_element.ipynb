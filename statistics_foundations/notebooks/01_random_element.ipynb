{
 "cells": [
  {
   "cell_type": "code",
   "execution_count": 8,
   "id": "7e3caca6",
   "metadata": {},
   "outputs": [
    {
     "name": "stdout",
     "output_type": "stream",
     "text": [
      "       country        date  agricultural_land%  forest_land%  land_area  \\\n",
      "0  Afghanistan  1960-01-01                 NaN           NaN        NaN   \n",
      "1  Afghanistan  1961-01-01           57.878356           NaN   652230.0   \n",
      "2  Afghanistan  1962-01-01           57.955016           NaN   652230.0   \n",
      "3  Afghanistan  1963-01-01           58.031676           NaN   652230.0   \n",
      "4  Afghanistan  1964-01-01           58.116002           NaN   652230.0   \n",
      "\n",
      "   avg_precipitation  trade_in_services%  control_of_corruption_estimate  \\\n",
      "0                NaN                 NaN                             NaN   \n",
      "1              327.0                 NaN                             NaN   \n",
      "2              327.0                 NaN                             NaN   \n",
      "3              327.0                 NaN                             NaN   \n",
      "4              327.0                 NaN                             NaN   \n",
      "\n",
      "   control_of_corruption_std  access_to_electricity%  ...  \\\n",
      "0                        NaN                     NaN  ...   \n",
      "1                        NaN                     NaN  ...   \n",
      "2                        NaN                     NaN  ...   \n",
      "3                        NaN                     NaN  ...   \n",
      "4                        NaN                     NaN  ...   \n",
      "\n",
      "   multidimensional_poverty_headcount_ratio%  gini_index  birth_rate  \\\n",
      "0                                        NaN         NaN      50.340   \n",
      "1                                        NaN         NaN      50.443   \n",
      "2                                        NaN         NaN      50.570   \n",
      "3                                        NaN         NaN      50.703   \n",
      "4                                        NaN         NaN      50.831   \n",
      "\n",
      "   death_rate  life_expectancy_at_birth  population  rural_population  \\\n",
      "0      31.921                    32.535   8622466.0         7898093.0   \n",
      "1      31.349                    33.068   8790140.0         8026804.0   \n",
      "2      30.845                    33.547   8969047.0         8163985.0   \n",
      "3      30.359                    34.016   9157465.0         8308019.0   \n",
      "4      29.867                    34.494   9355514.0         8458694.0   \n",
      "\n",
      "   voice_and_accountability_estimate  voice_and_accountability_std  \\\n",
      "0                                NaN                           NaN   \n",
      "1                                NaN                           NaN   \n",
      "2                                NaN                           NaN   \n",
      "3                                NaN                           NaN   \n",
      "4                                NaN                           NaN   \n",
      "\n",
      "   intentional_homicides  \n",
      "0                    NaN  \n",
      "1                    NaN  \n",
      "2                    NaN  \n",
      "3                    NaN  \n",
      "4                    NaN  \n",
      "\n",
      "[5 rows x 50 columns]\n"
     ]
    }
   ],
   "source": [
    "import pandas as pd\n",
    "df=pd.read_csv(\"../data/world_bank_development_indicators.csv\")\n",
    "print(df.head())"
   ]
  },
  {
   "cell_type": "code",
   "execution_count": null,
   "id": "b577473a",
   "metadata": {},
   "outputs": [
    {
     "name": "stdout",
     "output_type": "stream",
     "text": [
      "<class 'pandas.core.frame.DataFrame'>\n",
      "RangeIndex: 17272 entries, 0 to 17271\n",
      "Data columns (total 50 columns):\n",
      " #   Column                                     Non-Null Count  Dtype  \n",
      "---  ------                                     --------------  -----  \n",
      " 0   country                                    17272 non-null  object \n",
      " 1   date                                       17272 non-null  object \n",
      " 2   agricultural_land%                         14714 non-null  float64\n",
      " 3   forest_land%                               8176 non-null   float64\n",
      " 4   land_area                                  14930 non-null  float64\n",
      " 5   avg_precipitation                          10086 non-null  float64\n",
      " 6   trade_in_services%                         9195 non-null   float64\n",
      " 7   control_of_corruption_estimate             4783 non-null   float64\n",
      " 8   control_of_corruption_std                  4783 non-null   float64\n",
      " 9   access_to_electricity%                     7348 non-null   float64\n",
      " 10  renewvable_energy_consumption%             8076 non-null   float64\n",
      " 11  electric_power_consumption                 7790 non-null   float64\n",
      " 12  CO2_emisions                               7408 non-null   float64\n",
      " 13  other_greenhouse_emisions                  7408 non-null   float64\n",
      " 14  population_density                         14901 non-null  float64\n",
      " 15  inflation_annual%                          10788 non-null  float64\n",
      " 16  real_interest_rate                         4416 non-null   float64\n",
      " 17  risk_premium_on_lending                    2370 non-null   float64\n",
      " 18  research_and_development_expenditure%      2889 non-null   float64\n",
      " 19  central_goverment_debt%                    2080 non-null   float64\n",
      " 20  tax_revenue%                               5125 non-null   float64\n",
      " 21  expense%                                   4769 non-null   float64\n",
      " 22  goverment_effectiveness_estimate           4759 non-null   float64\n",
      " 23  goverment_effectiveness_std                4759 non-null   float64\n",
      " 24  human_capital_index                        601 non-null    float64\n",
      " 25  doing_business                             189 non-null    float64\n",
      " 26  time_to_get_operation_license              371 non-null    float64\n",
      " 27  statistical_performance_indicators         1237 non-null   float64\n",
      " 28  individuals_using_internet%                8044 non-null   float64\n",
      " 29  logistic_performance_index                 1407 non-null   float64\n",
      " 30  military_expenditure%                      10122 non-null  float64\n",
      " 31  GDP_current_US                             13198 non-null  float64\n",
      " 32  political_stability_estimate               4820 non-null   float64\n",
      " 33  political_stability_std                    4820 non-null   float64\n",
      " 34  rule_of_law_estimate                       4873 non-null   float64\n",
      " 35  rule_of_law_std                            4873 non-null   float64\n",
      " 36  regulatory_quality_estimate                4761 non-null   float64\n",
      " 37  regulatory_quality_std                     4761 non-null   float64\n",
      " 38  government_expenditure_on_education%       6107 non-null   float64\n",
      " 39  government_health_expenditure%             4938 non-null   float64\n",
      " 40  multidimensional_poverty_headcount_ratio%  455 non-null    float64\n",
      " 41  gini_index                                 2108 non-null   float64\n",
      " 42  birth_rate                                 16037 non-null  float64\n",
      " 43  death_rate                                 16019 non-null  float64\n",
      " 44  life_expectancy_at_birth                   15866 non-null  float64\n",
      " 45  population                                 16665 non-null  float64\n",
      " 46  rural_population                           16539 non-null  float64\n",
      " 47  voice_and_accountability_estimate          4850 non-null   float64\n",
      " 48  voice_and_accountability_std               4850 non-null   float64\n",
      " 49  intentional_homicides                      4209 non-null   float64\n",
      "dtypes: float64(48), object(2)\n",
      "memory usage: 6.6+ MB\n"
     ]
    }
   ],
   "source": [
    "df.info() # Check the structure of the DataFrame"
   ]
  },
  {
   "cell_type": "code",
   "execution_count": 11,
   "id": "b1b5b8bc",
   "metadata": {},
   "outputs": [
    {
     "name": "stdout",
     "output_type": "stream",
     "text": [
      "Continuous variables: ['agricultural_land%', 'forest_land%', 'GDP_current_US', 'life_expectancy_at_birth', 'gini_index', 'population', 'rule_of_law_estimate', 'control_of_corruption_estimate', 'human_capital_index', 'government_health_expenditure%']\n",
      "Discrete variables: ['country', 'date']\n"
     ]
    }
   ],
   "source": [
    "continuous = [\n",
    "    \"agricultural_land%\", \"forest_land%\", \"GDP_current_US\", \n",
    "    \"life_expectancy_at_birth\", \"gini_index\", \"population\",\n",
    "    \"rule_of_law_estimate\", \"control_of_corruption_estimate\",\n",
    "    \"human_capital_index\", \"government_health_expenditure%\"\n",
    "]\n",
    "\n",
    "discrete = [\"country\", \"date\"]\n",
    "\n",
    "print(\"Continuous variables:\", continuous)\n",
    "print(\"Discrete variables:\", discrete)\n"
   ]
  },
  {
   "cell_type": "markdown",
   "id": "81096a4f",
   "metadata": {},
   "source": [
    "Random Elements — Governance + Development Dataset\n",
    "\n",
    "Each country is one element of the sample space Ω.\n",
    "\n",
    "Each numeric indicator (GDP, life expectancy, education spending, etc.) is a random variable because it varies across countries and years.\n",
    "\n",
    "We’ll treat these as continuous random variables and explore their distributions and relationships in the following notebooks."
   ]
  }
 ],
 "metadata": {
  "kernelspec": {
   "display_name": "base",
   "language": "python",
   "name": "python3"
  },
  "language_info": {
   "codemirror_mode": {
    "name": "ipython",
    "version": 3
   },
   "file_extension": ".py",
   "mimetype": "text/x-python",
   "name": "python",
   "nbconvert_exporter": "python",
   "pygments_lexer": "ipython3",
   "version": "3.11.7"
  }
 },
 "nbformat": 4,
 "nbformat_minor": 5
}
